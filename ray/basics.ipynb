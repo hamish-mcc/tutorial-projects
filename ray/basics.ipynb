{
 "cells": [
  {
   "cell_type": "markdown",
   "metadata": {},
   "source": [
    "# Ray Core\n",
    "## [Getting Started](https://docs.ray.io/en/latest/ray-core/walkthrough.html#)"
   ]
  },
  {
   "cell_type": "code",
   "execution_count": 1,
   "metadata": {},
   "outputs": [
    {
     "name": "stdout",
     "output_type": "stream",
     "text": [
      "Ray version 2.0.0\n"
     ]
    },
    {
     "name": "stderr",
     "output_type": "stream",
     "text": [
      "2022-09-12 14:59:13,746\tINFO worker.py:1518 -- Started a local Ray instance.\n"
     ]
    },
    {
     "data": {
      "text/html": [
       "<div>\n",
       "    <div style=\"margin-left: 50px;display: flex;flex-direction: row;align-items: center\">\n",
       "        <h3 style=\"color: var(--jp-ui-font-color0)\">Ray</h3>\n",
       "        <svg version=\"1.1\" id=\"ray\" width=\"3em\" viewBox=\"0 0 144.5 144.6\" style=\"margin-left: 3em;margin-right: 3em\">\n",
       "            <g id=\"layer-1\">\n",
       "                <path fill=\"#00a2e9\" class=\"st0\" d=\"M97.3,77.2c-3.8-1.1-6.2,0.9-8.3,5.1c-3.5,6.8-9.9,9.9-17.4,9.6S58,88.1,54.8,81.2c-1.4-3-3-4-6.3-4.1\n",
       "                    c-5.6-0.1-9.9,0.1-13.1,6.4c-3.8,7.6-13.6,10.2-21.8,7.6C5.2,88.4-0.4,80.5,0,71.7c0.1-8.4,5.7-15.8,13.8-18.2\n",
       "                    c8.4-2.6,17.5,0.7,22.3,8c1.3,1.9,1.3,5.2,3.6,5.6c3.9,0.6,8,0.2,12,0.2c1.8,0,1.9-1.6,2.4-2.8c3.5-7.8,9.7-11.8,18-11.9\n",
       "                    c8.2-0.1,14.4,3.9,17.8,11.4c1.3,2.8,2.9,3.6,5.7,3.3c1-0.1,2,0.1,3,0c2.8-0.5,6.4,1.7,8.1-2.7s-2.3-5.5-4.1-7.5\n",
       "                    c-5.1-5.7-10.9-10.8-16.1-16.3C84,38,81.9,37.1,78,38.3C66.7,42,56.2,35.7,53,24.1C50.3,14,57.3,2.8,67.7,0.5\n",
       "                    C78.4-2,89,4.7,91.5,15.3c0.1,0.3,0.1,0.5,0.2,0.8c0.7,3.4,0.7,6.9-0.8,9.8c-1.7,3.2-0.8,5,1.5,7.2c6.7,6.5,13.3,13,19.8,19.7\n",
       "                    c1.8,1.8,3,2.1,5.5,1.2c9.1-3.4,17.9-0.6,23.4,7c4.8,6.9,4.6,16.1-0.4,22.9c-5.4,7.2-14.2,9.9-23.1,6.5c-2.3-0.9-3.5-0.6-5.1,1.1\n",
       "                    c-6.7,6.9-13.6,13.7-20.5,20.4c-1.8,1.8-2.5,3.2-1.4,5.9c3.5,8.7,0.3,18.6-7.7,23.6c-7.9,5-18.2,3.8-24.8-2.9\n",
       "                    c-6.4-6.4-7.4-16.2-2.5-24.3c4.9-7.8,14.5-11,23.1-7.8c3,1.1,4.7,0.5,6.9-1.7C91.7,98.4,98,92.3,104.2,86c1.6-1.6,4.1-2.7,2.6-6.2\n",
       "                    c-1.4-3.3-3.8-2.5-6.2-2.6C99.8,77.2,98.9,77.2,97.3,77.2z M72.1,29.7c5.5,0.1,9.9-4.3,10-9.8c0-0.1,0-0.2,0-0.3\n",
       "                    C81.8,14,77,9.8,71.5,10.2c-5,0.3-9,4.2-9.3,9.2c-0.2,5.5,4,10.1,9.5,10.3C71.8,29.7,72,29.7,72.1,29.7z M72.3,62.3\n",
       "                    c-5.4-0.1-9.9,4.2-10.1,9.7c0,0.2,0,0.3,0,0.5c0.2,5.4,4.5,9.7,9.9,10c5.1,0.1,9.9-4.7,10.1-9.8c0.2-5.5-4-10-9.5-10.3\n",
       "                    C72.6,62.3,72.4,62.3,72.3,62.3z M115,72.5c0.1,5.4,4.5,9.7,9.8,9.9c5.6-0.2,10-4.8,10-10.4c-0.2-5.4-4.6-9.7-10-9.7\n",
       "                    c-5.3-0.1-9.8,4.2-9.9,9.5C115,72.1,115,72.3,115,72.5z M19.5,62.3c-5.4,0.1-9.8,4.4-10,9.8c-0.1,5.1,5.2,10.4,10.2,10.3\n",
       "                    c5.6-0.2,10-4.9,9.8-10.5c-0.1-5.4-4.5-9.7-9.9-9.6C19.6,62.3,19.5,62.3,19.5,62.3z M71.8,134.6c5.9,0.2,10.3-3.9,10.4-9.6\n",
       "                    c0.5-5.5-3.6-10.4-9.1-10.8c-5.5-0.5-10.4,3.6-10.8,9.1c0,0.5,0,0.9,0,1.4c-0.2,5.3,4,9.8,9.3,10\n",
       "                    C71.6,134.6,71.7,134.6,71.8,134.6z\"/>\n",
       "            </g>\n",
       "        </svg>\n",
       "        <table>\n",
       "            <tr>\n",
       "                <td style=\"text-align: left\"><b>Python version:</b></td>\n",
       "                <td style=\"text-align: left\"><b>3.10.5</b></td>\n",
       "            </tr>\n",
       "            <tr>\n",
       "                <td style=\"text-align: left\"><b>Ray version:</b></td>\n",
       "                <td style=\"text-align: left\"><b> 2.0.0</b></td>\n",
       "            </tr>\n",
       "            \n",
       "        </table>\n",
       "    </div>\n",
       "</div>\n"
      ],
      "text/plain": [
       "RayContext(dashboard_url='', python_version='3.10.5', ray_version='2.0.0', ray_commit='cba26cc83f6b5b8a2ff166594a65cb74c0ec8740', address_info={'node_ip_address': '192.168.1.136', 'raylet_ip_address': '192.168.1.136', 'redis_address': None, 'object_store_address': '/tmp/ray/session_2022-09-12_14-59-12_303512_171134/sockets/plasma_store', 'raylet_socket_name': '/tmp/ray/session_2022-09-12_14-59-12_303512_171134/sockets/raylet', 'webui_url': '', 'session_dir': '/tmp/ray/session_2022-09-12_14-59-12_303512_171134', 'metrics_export_port': 58265, 'gcs_address': '192.168.1.136:60811', 'address': '192.168.1.136:60811', 'dashboard_agent_listen_port': 52365, 'node_id': '6147307e6fd7f8c4622016683a5e26e2a51afb6e9713226b1872c7ec'})"
      ]
     },
     "execution_count": 1,
     "metadata": {},
     "output_type": "execute_result"
    }
   ],
   "source": [
    "import ray\n",
    "print(f'Ray version {ray.__version__}')\n",
    "ray.init()\n"
   ]
  },
  {
   "cell_type": "markdown",
   "metadata": {},
   "source": [
    "**Running a Task:**\n",
    "- Decorate your function with `@ray.remote` to declare that you want to run this function remotely.\n",
    "- Call that function with `.remote()`. This remote call yields a future, a so-called Ray object reference, that you can then fetch with `ray.get`"
   ]
  },
  {
   "cell_type": "code",
   "execution_count": 3,
   "metadata": {},
   "outputs": [
    {
     "name": "stdout",
     "output_type": "stream",
     "text": [
      "[0, 1, 4, 9]\n"
     ]
    }
   ],
   "source": [
    "# Define the square task.\n",
    "@ray.remote\n",
    "def square(x):\n",
    "    return x * x\n",
    "\n",
    "\n",
    "# Launch four parallel square tasks.\n",
    "futures = [square.remote(i) for i in range(4)]\n",
    "\n",
    "# Retrieve results.\n",
    "print(ray.get(futures))\n"
   ]
  },
  {
   "cell_type": "markdown",
   "metadata": {},
   "source": [
    "**Calling an actor:**\n",
    "- When you instantiate a class that is a Ray actor, Ray will start a remote instance of that class in the cluster.\n",
    "- Actor can then execute remote method calls and maintain its own internal state"
   ]
  },
  {
   "cell_type": "code",
   "execution_count": 4,
   "metadata": {},
   "outputs": [
    {
     "name": "stdout",
     "output_type": "stream",
     "text": [
      "10\n"
     ]
    }
   ],
   "source": [
    "# Define the Counter actor.\n",
    "@ray.remote\n",
    "class Counter:\n",
    "    def __init__(self):\n",
    "        self.i = 0\n",
    "\n",
    "    def get(self):\n",
    "        return self.i\n",
    "\n",
    "    def incr(self, value):\n",
    "        self.i += value\n",
    "\n",
    "\n",
    "# Create a Counter actor.\n",
    "c = Counter.remote()\n",
    "\n",
    "# Submit calls to the actor. These calls run asynchronously but in\n",
    "# submission order on the remote actor process.\n",
    "for _ in range(10):\n",
    "    c.incr.remote(1)\n",
    "\n",
    "# Retrieve final actor state.\n",
    "print(ray.get(c.get.remote()))\n"
   ]
  },
  {
   "cell_type": "markdown",
   "metadata": {},
   "source": [
    "**Passing an Object:**\n",
    "- Ray stores task and actor call results in its distributed object store, returning object references that can be later retrieved.\n",
    "- Object references can also be created explicitly via `ray.put`, and object references can be passed to tasks as substitutes for argument values"
   ]
  },
  {
   "cell_type": "code",
   "execution_count": 5,
   "metadata": {},
   "outputs": [
    {
     "name": "stderr",
     "output_type": "stream",
     "text": [
      "\u001b[2m\u001b[36m(square pid=155530)\u001b[0m E0912 14:26:05.956039441  156011 chttp2_transport.cc:1103]   Received a GOAWAY with error code ENHANCE_YOUR_CALM and debug data equal to \"too_many_pings\"\n"
     ]
    },
    {
     "name": "stdout",
     "output_type": "stream",
     "text": [
      "10000.0\n",
      "1000000.0\n"
     ]
    }
   ],
   "source": [
    "import numpy as np\n",
    "\n",
    "\n",
    "@ray.remote\n",
    "def sum_matrix(matrix):\n",
    "    # Define a task that sums the values in a matrix.\n",
    "    return np.sum(matrix)\n",
    "\n",
    "\n",
    "# Call the task with a literal argument value.\n",
    "print(ray.get(sum_matrix.remote(np.ones((100, 100)))))\n",
    "# -> 10000.0\n",
    "\n",
    "# Put a large array into the object store.\n",
    "matrix_ref = ray.put(np.ones((1000, 1000)))\n",
    "\n",
    "# Call the task with the object reference as an argument.\n",
    "print(ray.get(sum_matrix.remote(matrix_ref)))\n"
   ]
  },
  {
   "cell_type": "markdown",
   "metadata": {},
   "source": [
    "## [Tasks](https://docs.ray.io/en/latest/ray-core/tasks.html)"
   ]
  },
  {
   "cell_type": "markdown",
   "metadata": {},
   "source": [
    "Ray enables arbitrary functions to be executed asynchronously on separate Python workers. These asynchronous Ray functions are called “remote functions”"
   ]
  },
  {
   "cell_type": "code",
   "execution_count": 12,
   "metadata": {},
   "outputs": [
    {
     "name": "stdout",
     "output_type": "stream",
     "text": [
      "\u001b[2m\u001b[36m(my_function pid=155516)\u001b[0m my_function\n",
      "\u001b[2m\u001b[36m(slow_function pid=155530)\u001b[0m slow_function\n",
      "\u001b[2m\u001b[36m(slow_function pid=155520)\u001b[0m slow_function\n",
      "\u001b[2m\u001b[36m(slow_function pid=155521)\u001b[0m slow_function\n",
      "\u001b[2m\u001b[36m(slow_function pid=155529)\u001b[0m slow_function\n",
      "\u001b[2m\u001b[36m(slow_function pid=155527)\u001b[0m slow_function\n",
      "\u001b[2m\u001b[36m(slow_function pid=155517)\u001b[0m slow_function\n",
      "\u001b[2m\u001b[36m(slow_function pid=155516)\u001b[0m slow_function\n",
      "\u001b[2m\u001b[36m(slow_function pid=155515)\u001b[0m slow_function\n"
     ]
    }
   ],
   "source": [
    "import time\n",
    "\n",
    "\n",
    "def normal_function():\n",
    "    # A regular Python function.\n",
    "    return 1\n",
    "\n",
    "\n",
    "# By adding the `@ray.remote` decorator, a regular Python function\n",
    "# becomes a Ray remote function.\n",
    "@ray.remote\n",
    "def my_function():\n",
    "    print(\"my_function\")\n",
    "    return 1\n",
    "\n",
    "\n",
    "# To invoke this remote function, use the `remote` method.\n",
    "# This will immediately return an object ref (a future) and then create\n",
    "# a task that will be executed on a worker process.\n",
    "obj_ref = my_function.remote()\n",
    "\n",
    "# The result can be retrieved with ``ray.get``.\n",
    "assert ray.get(obj_ref) == 1\n",
    "\n",
    "\n",
    "@ray.remote\n",
    "def slow_function():\n",
    "    time.sleep(10)\n",
    "    print(\"slow_function\")\n",
    "    return 1\n",
    "\n",
    "\n",
    "# Invocations of Ray remote functions happen in parallel.\n",
    "# All computation is performed in the background, driven by Ray's internal event loop.\n",
    "for _ in range(4):\n",
    "    # This doesn't block.\n",
    "    slow_function.remote()\n"
   ]
  },
  {
   "cell_type": "markdown",
   "metadata": {},
   "source": [
    "Object refs can also be passed into remote functions. When the function actually gets executed, the argument will be passed as the underlying Python value\n",
    "\n",
    "- The second task will not be executed until the first task has finished executing because the second task depends on the output of the first task.\n",
    "- If the two tasks are scheduled on different machines, the output of the first task (the value corresponding to obj_ref1/objRef1) will be sent over the network to the machine where the second task is scheduled.\n"
   ]
  },
  {
   "cell_type": "code",
   "execution_count": 13,
   "metadata": {},
   "outputs": [
    {
     "name": "stdout",
     "output_type": "stream",
     "text": [
      "\u001b[2m\u001b[36m(my_function pid=155517)\u001b[0m my_function\n"
     ]
    }
   ],
   "source": [
    "@ray.remote\n",
    "def function_with_an_argument(value):\n",
    "    return value + 1\n",
    "\n",
    "\n",
    "obj_ref1 = my_function.remote()\n",
    "assert ray.get(obj_ref1) == 1\n",
    "\n",
    "# You can pass an object ref as an argument to another Ray remote function.\n",
    "obj_ref2 = function_with_an_argument.remote(obj_ref1)\n",
    "assert ray.get(obj_ref2) == 2\n"
   ]
  },
  {
   "cell_type": "markdown",
   "metadata": {},
   "source": [
    "After launching a number of tasks, you can find out which ones have finished executing without blocking on all of them with `ray.wait`\n",
    "\n",
    "        `ready_refs, remaining_refs = ray.wait(object_refs, num_returns=1, timeout=None)`\n"
   ]
  },
  {
   "cell_type": "markdown",
   "metadata": {},
   "source": [
    "Python remote functions can return multiple object refs\n",
    "- For tasks that return multiple objects, Ray also supports remote generators that allow a task to return one object at a time to reduce memory usage at the worker.\n"
   ]
  },
  {
   "cell_type": "code",
   "execution_count": 14,
   "metadata": {},
   "outputs": [],
   "source": [
    "@ray.remote(num_returns=3)\n",
    "def return_multiple():\n",
    "    return 0, 1, 2\n",
    "\n",
    "\n",
    "a, b, c = return_multiple.remote()\n"
   ]
  },
  {
   "cell_type": "code",
   "execution_count": 16,
   "metadata": {},
   "outputs": [],
   "source": [
    "@ray.remote(num_returns=3)\n",
    "def return_multiple_as_generator():\n",
    "    for i in range(3):\n",
    "        yield i\n",
    "\n",
    "\n",
    "# NOTE: Similar to normal functions, these objects will not be available\n",
    "# until the full task is complete and all returns have been generated.\n",
    "a, b, c = return_multiple_as_generator.remote()\n"
   ]
  },
  {
   "cell_type": "markdown",
   "metadata": {},
   "source": [
    "Remote functions can be canceled by calling `ray.cancel` "
   ]
  },
  {
   "cell_type": "code",
   "execution_count": 17,
   "metadata": {},
   "outputs": [
    {
     "name": "stdout",
     "output_type": "stream",
     "text": [
      "Object reference was cancelled.\n"
     ]
    }
   ],
   "source": [
    "from ray.exceptions import TaskCancelledError\n",
    "\n",
    "\n",
    "@ray.remote\n",
    "def blocking_operation():\n",
    "    time.sleep(10e6)\n",
    "\n",
    "\n",
    "obj_ref = blocking_operation.remote()\n",
    "ray.cancel(obj_ref)\n",
    "\n",
    "\n",
    "try:\n",
    "    ray.get(obj_ref)\n",
    "except TaskCancelledError:\n",
    "    print(\"Object reference was cancelled.\")\n"
   ]
  },
  {
   "cell_type": "markdown",
   "metadata": {},
   "source": [
    "## [Actors](https://docs.ray.io/en/latest/ray-core/actors.html)"
   ]
  },
  {
   "cell_type": "markdown",
   "metadata": {},
   "source": [
    "When a new actor is instantiated, a new worker is created, and methods of the actor are scheduled on that specific worker and can access and mutate the state of that worker.\n"
   ]
  },
  {
   "cell_type": "markdown",
   "metadata": {},
   "source": [
    "The `ray.remote` decorator indicates that instances of the Counter class will be actors. Each actor runs in its own Python process"
   ]
  },
  {
   "cell_type": "code",
   "execution_count": 24,
   "metadata": {},
   "outputs": [],
   "source": [
    "@ray.remote\n",
    "class Counter(object):\n",
    "    def __init__(self):\n",
    "        self.value = 0\n",
    "\n",
    "    def increment(self):\n",
    "        self.value += 1\n",
    "        return self.value\n",
    "\n",
    "    def get_counter(self):\n",
    "        return self.value\n",
    "\n",
    "\n",
    "# Create an actor from this class.\n",
    "counter = Counter.remote()\n"
   ]
  },
  {
   "cell_type": "markdown",
   "metadata": {},
   "source": [
    "You can specify resource requirements in actors"
   ]
  },
  {
   "cell_type": "code",
   "execution_count": 19,
   "metadata": {},
   "outputs": [],
   "source": [
    "# Specify required resources for an actor.\n",
    "@ray.remote(num_cpus=2, num_gpus=0.5)\n",
    "class Actor(object):\n",
    "    pass\n"
   ]
  },
  {
   "cell_type": "markdown",
   "metadata": {},
   "source": [
    "We can interact with the actor by calling its methods with the remote operator.\n",
    "\n",
    "- We can then call get on the object ref to retrieve the actual value.\n",
    "- Methods called on different actors can execute in parallel\n",
    "- Methods called on the same actor are executed serially in the order that they are called.\n",
    "- Methods on the same actor will share state with one another, as shown below.\n"
   ]
  },
  {
   "cell_type": "code",
   "execution_count": 25,
   "metadata": {},
   "outputs": [
    {
     "name": "stdout",
     "output_type": "stream",
     "text": [
      "2\n"
     ]
    }
   ],
   "source": [
    "obj_ref = counter.increment.remote()\n",
    "assert ray.get(obj_ref) == 1\n",
    "obj_ref_2 = counter.increment.remote()\n",
    "print(ray.get(obj_ref_2))"
   ]
  },
  {
   "cell_type": "code",
   "execution_count": 26,
   "metadata": {},
   "outputs": [
    {
     "name": "stdout",
     "output_type": "stream",
     "text": [
      "[1, 1, 1, 1, 1, 1, 1, 1, 1, 1]\n",
      "[2, 3, 4, 5, 6]\n"
     ]
    }
   ],
   "source": [
    "# Create ten Counter actors.\n",
    "counters = [Counter.remote() for _ in range(10)]\n",
    "\n",
    "# Increment each Counter once and get the results. These tasks all happen in\n",
    "# parallel.\n",
    "results = ray.get([c.increment.remote() for c in counters])\n",
    "print(results)  # prints [1, 1, 1, 1, 1, 1, 1, 1, 1, 1]\n",
    "\n",
    "# Increment the first Counter five times. These tasks are executed serially\n",
    "# and share state.\n",
    "results = ray.get([counters[0].increment.remote() for _ in range(5)])\n",
    "print(results)  # prints [2, 3, 4, 5, 6]\n"
   ]
  },
  {
   "cell_type": "markdown",
   "metadata": {},
   "source": [
    "Actor handles can be passed into other tasks. We can define remote functions (or actor methods) that use actor handles."
   ]
  },
  {
   "cell_type": "code",
   "execution_count": 28,
   "metadata": {},
   "outputs": [
    {
     "name": "stdout",
     "output_type": "stream",
     "text": [
      "27\n",
      "57\n",
      "87\n",
      "117\n",
      "147\n",
      "177\n",
      "207\n",
      "237\n",
      "267\n",
      "297\n"
     ]
    }
   ],
   "source": [
    "import time\n",
    "\n",
    "\n",
    "@ray.remote\n",
    "def f(counter):\n",
    "    for _ in range(1000):\n",
    "        time.sleep(0.1)\n",
    "        counter.increment.remote()\n",
    "\n",
    "\n",
    "counter = Counter.remote()\n",
    "\n",
    "# Start some tasks that use the actor.\n",
    "[f.remote(counter) for _ in range(3)]\n",
    "\n",
    "# Print the counter value.\n",
    "for _ in range(10):\n",
    "    time.sleep(1)\n",
    "    print(ray.get(counter.get_counter.remote()))\n"
   ]
  },
  {
   "cell_type": "markdown",
   "metadata": {},
   "source": [
    "## [Objects](https://docs.ray.io/en/latest/ray-core/objects.html)"
   ]
  },
  {
   "cell_type": "markdown",
   "metadata": {},
   "source": [
    "- Tasks and actors create and compute on remote objects that can be stored anywhere in a Ray cluster.\n",
    "- Referred to with object refs\n",
    "    - An object ref is essentially a pointer or a unique ID that can be used to refer to a remote object without seeing its value\n",
    "    - Returned by remote function calls or `put`\n",
    "- Remote objects are cached in Ray’s distributed shared-memory object store (one object store per node in the cluster)"
   ]
  },
  {
   "cell_type": "code",
   "execution_count": 2,
   "metadata": {},
   "outputs": [],
   "source": [
    "# Put an object in Ray's object store.\n",
    "y = 1\n",
    "object_ref = ray.put(y)"
   ]
  },
  {
   "cell_type": "markdown",
   "metadata": {},
   "source": [
    "You can use the `get` method to fetch the result of a remote object from an object ref."
   ]
  },
  {
   "cell_type": "code",
   "execution_count": 5,
   "metadata": {},
   "outputs": [
    {
     "name": "stdout",
     "output_type": "stream",
     "text": [
      "`get` timed out.\n"
     ]
    }
   ],
   "source": [
    "# Get the value of one object ref.\n",
    "from ray.exceptions import GetTimeoutError\n",
    "import time\n",
    "\n",
    "obj_ref = ray.put(1)\n",
    "assert ray.get(obj_ref) == 1\n",
    "\n",
    "# Get the values of multiple object refs in parallel.\n",
    "assert ray.get([ray.put(i) for i in range(3)]) == [0, 1, 2]\n",
    "\n",
    "# You can also set a timeout to return early from a ``get``\n",
    "# that's blocking for too long.\n",
    "# ``GetTimeoutError`` is a subclass of ``TimeoutError``.\n",
    "\n",
    "\n",
    "@ray.remote\n",
    "def long_running_function():\n",
    "    time.sleep(8)\n",
    "\n",
    "\n",
    "obj_ref = long_running_function.remote()\n",
    "try:\n",
    "    ray.get(obj_ref, timeout=4)\n",
    "except GetTimeoutError:  # You can capture the standard \"TimeoutError\" instead\n",
    "    print(\"`get` timed out.\")\n"
   ]
  },
  {
   "cell_type": "markdown",
   "metadata": {},
   "source": [
    "Ray object references can be freely passed around a Ray application:\n",
    "- Can be passed as arguments to tasks, actor methods, and even stored in other objects\n",
    "- Tracked via distributed reference counting\n",
    "- Data is automatically freed once all references to the object are deleted"
   ]
  },
  {
   "cell_type": "markdown",
   "metadata": {},
   "source": [
    "Depending on the way an object is passed, Ray will decide whether to de-reference the object prior to task execution:\n",
    "\n",
    "- Passing an object as a top-level argmuent: When an object is passed directly as a top-level argument to a task, Ray will de-reference the object\n",
    "- Passing an object as a nested argument: When an object is passed within a nested object, for example, within a Python list, Ray will not de-reference it.\n",
    "\n",
    "        # Examples of passing objects to actor constructors.\n",
    "        actor_handle = Actor.remote(obj)  # by-value\n",
    "        actor_handle = Actor.remote([obj])  # by-reference\n",
    "\n",
    "        # Examples of passing objects to actor method calls.\n",
    "        actor_handle.method.remote(obj)  # by-value\n",
    "        actor_handle.method.remote([obj])  # by-reference\n"
   ]
  },
  {
   "cell_type": "code",
   "execution_count": 6,
   "metadata": {},
   "outputs": [
    {
     "data": {
      "text/plain": [
       "ObjectRef(e0dc174c83599034ffffffffffffffffffffffff0100000001000000)"
      ]
     },
     "execution_count": 6,
     "metadata": {},
     "output_type": "execute_result"
    },
    {
     "name": "stdout",
     "output_type": "stream",
     "text": [
      "\u001b[2m\u001b[36m(echo pid=174563)\u001b[0m 1 2 3\n",
      "\u001b[2m\u001b[36m(echo pid=174564)\u001b[0m 1 2 3\n"
     ]
    }
   ],
   "source": [
    "@ray.remote\n",
    "def echo(a: int, b: int, c: int):\n",
    "    \"\"\"This function prints its input values to stdout.\"\"\"\n",
    "    print(a, b, c)\n",
    "\n",
    "\n",
    "# Passing the literal values (1, 2, 3) to `echo`.\n",
    "echo.remote(1, 2, 3)\n",
    "# -> prints \"1 2 3\"\n",
    "\n",
    "# Put the values (1, 2, 3) into Ray's object store.\n",
    "a, b, c = ray.put(1), ray.put(2), ray.put(3)\n",
    "\n",
    "# Passing an object as a top-level argument to `echo`. Ray will de-reference top-level\n",
    "# arguments, so `echo` will see the literal values (1, 2, 3) in this case as well.\n",
    "echo.remote(a, b, c)\n"
   ]
  },
  {
   "cell_type": "code",
   "execution_count": 7,
   "metadata": {},
   "outputs": [
    {
     "data": {
      "text/plain": [
       "ObjectRef(f4402ec78d3a2607ffffffffffffffffffffffff0100000001000000)"
      ]
     },
     "execution_count": 7,
     "metadata": {},
     "output_type": "execute_result"
    },
    {
     "name": "stdout",
     "output_type": "stream",
     "text": [
      "\u001b[2m\u001b[36m(echo_and_get pid=174564)\u001b[0m args: [ObjectRef(00ffffffffffffffffffffffffffffffffffffff0100000011000000), ObjectRef(00ffffffffffffffffffffffffffffffffffffff0100000012000000), ObjectRef(00ffffffffffffffffffffffffffffffffffffff0100000013000000)]\n",
      "\u001b[2m\u001b[36m(echo_and_get pid=174564)\u001b[0m values: [1, 2, 3]\n"
     ]
    }
   ],
   "source": [
    "@ray.remote\n",
    "def echo_and_get(x_list):  # List[ObjectRef]\n",
    "    \"\"\"This function prints its input values to stdout.\"\"\"\n",
    "    print(\"args:\", x_list)\n",
    "    print(\"values:\", ray.get(x_list))\n",
    "\n",
    "\n",
    "# Put the values (1, 2, 3) into Ray's object store.\n",
    "a, b, c = ray.put(1), ray.put(2), ray.put(3)\n",
    "\n",
    "# Passing an object as a nested argument to `echo_and_get`. Ray does not\n",
    "# de-reference nested args, so `echo_and_get` sees the references.\n",
    "echo_and_get.remote([a, b, c])"
   ]
  }
 ],
 "metadata": {
  "kernelspec": {
   "display_name": "Python 3.10.5 64-bit ('dev')",
   "language": "python",
   "name": "python3"
  },
  "language_info": {
   "codemirror_mode": {
    "name": "ipython",
    "version": 3
   },
   "file_extension": ".py",
   "mimetype": "text/x-python",
   "name": "python",
   "nbconvert_exporter": "python",
   "pygments_lexer": "ipython3",
   "version": "3.10.5"
  },
  "orig_nbformat": 4,
  "vscode": {
   "interpreter": {
    "hash": "f9a04ed3eca032dcc4fa200271f66fa777421033f7775e858d2bb946f5ce0b0e"
   }
  }
 },
 "nbformat": 4,
 "nbformat_minor": 2
}
